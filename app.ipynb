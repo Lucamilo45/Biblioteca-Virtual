{
 "cells": [
  {
   "cell_type": "markdown",
   "id": "b57bad57",
   "metadata": {},
   "source": [
    "\n",
    " Bem-vindo à Máquina de Venda Automática de Ingressos de Cinema!\n",
    " \n",
    "  Solicita a idade do cliente"
   ]
  },
  {
   "cell_type": "code",
   "execution_count": null,
   "id": "e4fff6e0",
   "metadata": {},
   "outputs": [],
   "source": []
  },
  {
   "cell_type": "code",
   "execution_count": 1,
   "id": "9ba92855",
   "metadata": {},
   "outputs": [
    {
     "name": "stdout",
     "output_type": "stream",
     "text": [
      "Vamos classificar alguns filmes!\n",
      "\n",
      "Você avaliou 'Matrix' com 5 estrelas.\n",
      "\n",
      "Você avaliou 'Titanic' com 5 estrelas.\n",
      "\n",
      "Você avaliou 'Avatar' com 5 estrelas.\n",
      "\n",
      "Você avaliou 'O Senhor dos Anéis' com 5 estrelas.\n",
      "\n",
      "Entrada inválida. Digite um número inteiro.\n",
      "\n",
      "Você avaliou 'Interestelar' com 5 estrelas.\n",
      "\n",
      "Classificações finalizadas!\n"
     ]
    }
   ],
   "source": [
    "filmes = [\"Matrix\", \"Titanic\", \"Avatar\", \"O Senhor dos Anéis\", \"Interestelar\"]\n",
    "\n",
    "print(\"Vamos classificar alguns filmes!\\n\")\n",
    "\n",
    "for filme in filmes:\n",
    "    while True:\n",
    "        classificacao = input(f\"{filme} - de 1 a 5 estrelas? (ou 0 para parar): \")\n",
    "        if classificacao == '0':\n",
    "            print(f\"A classificação de '{filme}' foi interrompida.\\n\")\n",
    "            break\n",
    "        try:\n",
    "            classificacao = int(classificacao)\n",
    "            if classificacao < 1 or classificacao > 5:\n",
    "                print(\"Por favor, insira um valor entre 1 e 5.\\n\")\n",
    "            else:\n",
    "                print(f\"Você avaliou '{filme}' com {classificacao} estrelas.\\n\")\n",
    "                break\n",
    "        except ValueError:\n",
    "            print(\"Entrada inválida. Digite um número inteiro.\\n\")\n",
    "\n",
    "print(\"Classificações finalizadas!\")\n"
   ]
  }
 ],
 "metadata": {
  "kernelspec": {
   "display_name": "base",
   "language": "python",
   "name": "python3"
  },
  "language_info": {
   "codemirror_mode": {
    "name": "ipython",
    "version": 3
   },
   "file_extension": ".py",
   "mimetype": "text/x-python",
   "name": "python",
   "nbconvert_exporter": "python",
   "pygments_lexer": "ipython3",
   "version": "3.12.4"
  }
 },
 "nbformat": 4,
 "nbformat_minor": 5
}
